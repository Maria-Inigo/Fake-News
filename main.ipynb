{
 "cells": [
  {
   "cell_type": "markdown",
   "metadata": {},
   "source": [
    "# FAKE NEWS\n",
    "\n",
    "The goal of this project is to develop a classification machine learning model that will deduct whether a given news article is true or fake (reliable or unreliable). \n",
    "\n",
    "## Table of Contents:\n",
    "* [Data Preparation](#bullet-1)\n",
    "  + [Load Data](#bullet-1-1)\n",
    "  + [Exploratory Data Analysis (EDA)](#bullet-1-2)\n",
    "    - [Missing Data](#bullet-1-2-1)\n",
    "    - [Encode Categorical Data](#bullet-1-2-2)\n",
    "    - [Feature Correlation](#bullet-1-2-3)\n",
    "    - [Feature Extraction](#bullet-1-2-4)\n",
    "  + [Split Dataset](#bullet-1-3)\n",
    "* [Model Development](#bullet-2)\n",
    "  + [Decision Tree](#bullet-2-1)\n",
    "  + [K nearest Neighbors](#bullet-2-2)\n",
    "  + [SVM (Support Vector Classification)](#bullet-2-3)\n",
    "  + [Naive Bayes](#bullet-2-4)\n",
    "* [Model Evaluation](#bullet-2)"
   ]
  },
  {
   "cell_type": "code",
   "execution_count": 85,
   "metadata": {},
   "outputs": [],
   "source": [
    "# Import required libraries\n",
    "import zipfile, os\n",
    "import pandas as pd\n",
    "import matplotlib.pyplot as plt\n",
    "import seaborn as sns\n",
    "import sklearn\n",
    "from sklearn.model_selection import train_test_split\n",
    "from sklearn import metrics\n",
    "from sklearn.tree import DecisionTreeClassifier\n",
    "from sklearn.neighbors import KNeighborsClassifier\n",
    "from sklearn.svm import SVC\n",
    "from sklearn.naive_bayes import GaussianNB"
   ]
  },
  {
   "cell_type": "markdown",
   "metadata": {},
   "source": [
    "## Data Preparation <a class=\"anchor\" id=\"bullet-1\"></a>\n",
    "\n",
    "### Load Data <a class=\"anchor\" id=\"bullet-1-1\"></a>\n",
    "\n",
    "Retrieve datasets from Kaggle and save them under the _data_ folder."
   ]
  },
  {
   "cell_type": "code",
   "execution_count": 2,
   "metadata": {},
   "outputs": [
    {
     "name": "stdout",
     "output_type": "stream",
     "text": [
      "Downloading fake-news.zip to /Users/mariainigo/Documents/GitHub/Maria-Inigo/Fake-News\n",
      " 99%|█████████████████████████████████████▌| 46.0M/46.5M [00:05<00:00, 8.42MB/s]\n",
      "100%|██████████████████████████████████████| 46.5M/46.5M [00:05<00:00, 8.84MB/s]\n"
     ]
    }
   ],
   "source": [
    "# Import dataset as zip\n",
    "! kaggle competitions download -c fake-news\n",
    "\n",
    "# Extract datasets from imported zip\n",
    "with zipfile.ZipFile('./fake-news.zip', 'r') as zip_ref:\n",
    "  zip_ref.extractall('./data/')\n",
    "\n",
    "# Delete imported zip\n",
    "os.remove('./fake-news.zip')"
   ]
  },
  {
   "cell_type": "markdown",
   "metadata": {},
   "source": [
    "We are given 3 datasets: \n",
    "+ train.csv: A full training dataset with the following attributes:\n",
    "  - id: unique id for a news article\n",
    "  - title: the title of a news article\n",
    "  - author: author of the news article\n",
    "  - text: the text of the article; could be incomplete\n",
    "  - label: a label that marks the article as potentially unreliable\n",
    "  - 1: unreliable\n",
    "  - 0: reliable\n",
    "+ test.csv: A testing training dataset with all the same attributes at train.csv without the label.\n",
    "+ submit.csv: A sample submission that you can"
   ]
  },
  {
   "cell_type": "code",
   "execution_count": 3,
   "metadata": {},
   "outputs": [],
   "source": [
    "df_train = pd.read_csv('./data/train.csv')\n",
    "df_test = pd.read_csv('./data/test.csv')\n",
    "df_submit = pd.read_csv('./data/submit.csv')"
   ]
  },
  {
   "cell_type": "code",
   "execution_count": 4,
   "metadata": {},
   "outputs": [
    {
     "data": {
      "text/html": [
       "<div>\n",
       "<style scoped>\n",
       "    .dataframe tbody tr th:only-of-type {\n",
       "        vertical-align: middle;\n",
       "    }\n",
       "\n",
       "    .dataframe tbody tr th {\n",
       "        vertical-align: top;\n",
       "    }\n",
       "\n",
       "    .dataframe thead th {\n",
       "        text-align: right;\n",
       "    }\n",
       "</style>\n",
       "<table border=\"1\" class=\"dataframe\">\n",
       "  <thead>\n",
       "    <tr style=\"text-align: right;\">\n",
       "      <th></th>\n",
       "      <th>id</th>\n",
       "      <th>title</th>\n",
       "      <th>author</th>\n",
       "      <th>text</th>\n",
       "      <th>label</th>\n",
       "    </tr>\n",
       "  </thead>\n",
       "  <tbody>\n",
       "    <tr>\n",
       "      <th>0</th>\n",
       "      <td>0</td>\n",
       "      <td>House Dem Aide: We Didn’t Even See Comey’s Let...</td>\n",
       "      <td>Darrell Lucus</td>\n",
       "      <td>House Dem Aide: We Didn’t Even See Comey’s Let...</td>\n",
       "      <td>1</td>\n",
       "    </tr>\n",
       "    <tr>\n",
       "      <th>1</th>\n",
       "      <td>1</td>\n",
       "      <td>FLYNN: Hillary Clinton, Big Woman on Campus - ...</td>\n",
       "      <td>Daniel J. Flynn</td>\n",
       "      <td>Ever get the feeling your life circles the rou...</td>\n",
       "      <td>0</td>\n",
       "    </tr>\n",
       "    <tr>\n",
       "      <th>2</th>\n",
       "      <td>2</td>\n",
       "      <td>Why the Truth Might Get You Fired</td>\n",
       "      <td>Consortiumnews.com</td>\n",
       "      <td>Why the Truth Might Get You Fired October 29, ...</td>\n",
       "      <td>1</td>\n",
       "    </tr>\n",
       "    <tr>\n",
       "      <th>3</th>\n",
       "      <td>3</td>\n",
       "      <td>15 Civilians Killed In Single US Airstrike Hav...</td>\n",
       "      <td>Jessica Purkiss</td>\n",
       "      <td>Videos 15 Civilians Killed In Single US Airstr...</td>\n",
       "      <td>1</td>\n",
       "    </tr>\n",
       "    <tr>\n",
       "      <th>4</th>\n",
       "      <td>4</td>\n",
       "      <td>Iranian woman jailed for fictional unpublished...</td>\n",
       "      <td>Howard Portnoy</td>\n",
       "      <td>Print \\nAn Iranian woman has been sentenced to...</td>\n",
       "      <td>1</td>\n",
       "    </tr>\n",
       "  </tbody>\n",
       "</table>\n",
       "</div>"
      ],
      "text/plain": [
       "   id                                              title              author  \\\n",
       "0   0  House Dem Aide: We Didn’t Even See Comey’s Let...       Darrell Lucus   \n",
       "1   1  FLYNN: Hillary Clinton, Big Woman on Campus - ...     Daniel J. Flynn   \n",
       "2   2                  Why the Truth Might Get You Fired  Consortiumnews.com   \n",
       "3   3  15 Civilians Killed In Single US Airstrike Hav...     Jessica Purkiss   \n",
       "4   4  Iranian woman jailed for fictional unpublished...      Howard Portnoy   \n",
       "\n",
       "                                                text  label  \n",
       "0  House Dem Aide: We Didn’t Even See Comey’s Let...      1  \n",
       "1  Ever get the feeling your life circles the rou...      0  \n",
       "2  Why the Truth Might Get You Fired October 29, ...      1  \n",
       "3  Videos 15 Civilians Killed In Single US Airstr...      1  \n",
       "4  Print \\nAn Iranian woman has been sentenced to...      1  "
      ]
     },
     "execution_count": 4,
     "metadata": {},
     "output_type": "execute_result"
    }
   ],
   "source": [
    "df_train.head()"
   ]
  },
  {
   "cell_type": "code",
   "execution_count": 5,
   "metadata": {},
   "outputs": [
    {
     "data": {
      "text/html": [
       "<div>\n",
       "<style scoped>\n",
       "    .dataframe tbody tr th:only-of-type {\n",
       "        vertical-align: middle;\n",
       "    }\n",
       "\n",
       "    .dataframe tbody tr th {\n",
       "        vertical-align: top;\n",
       "    }\n",
       "\n",
       "    .dataframe thead th {\n",
       "        text-align: right;\n",
       "    }\n",
       "</style>\n",
       "<table border=\"1\" class=\"dataframe\">\n",
       "  <thead>\n",
       "    <tr style=\"text-align: right;\">\n",
       "      <th></th>\n",
       "      <th>id</th>\n",
       "      <th>title</th>\n",
       "      <th>author</th>\n",
       "      <th>text</th>\n",
       "    </tr>\n",
       "  </thead>\n",
       "  <tbody>\n",
       "    <tr>\n",
       "      <th>0</th>\n",
       "      <td>20800</td>\n",
       "      <td>Specter of Trump Loosens Tongues, if Not Purse...</td>\n",
       "      <td>David Streitfeld</td>\n",
       "      <td>PALO ALTO, Calif.  —   After years of scorning...</td>\n",
       "    </tr>\n",
       "    <tr>\n",
       "      <th>1</th>\n",
       "      <td>20801</td>\n",
       "      <td>Russian warships ready to strike terrorists ne...</td>\n",
       "      <td>NaN</td>\n",
       "      <td>Russian warships ready to strike terrorists ne...</td>\n",
       "    </tr>\n",
       "    <tr>\n",
       "      <th>2</th>\n",
       "      <td>20802</td>\n",
       "      <td>#NoDAPL: Native American Leaders Vow to Stay A...</td>\n",
       "      <td>Common Dreams</td>\n",
       "      <td>Videos #NoDAPL: Native American Leaders Vow to...</td>\n",
       "    </tr>\n",
       "    <tr>\n",
       "      <th>3</th>\n",
       "      <td>20803</td>\n",
       "      <td>Tim Tebow Will Attempt Another Comeback, This ...</td>\n",
       "      <td>Daniel Victor</td>\n",
       "      <td>If at first you don’t succeed, try a different...</td>\n",
       "    </tr>\n",
       "    <tr>\n",
       "      <th>4</th>\n",
       "      <td>20804</td>\n",
       "      <td>Keiser Report: Meme Wars (E995)</td>\n",
       "      <td>Truth Broadcast Network</td>\n",
       "      <td>42 mins ago 1 Views 0 Comments 0 Likes 'For th...</td>\n",
       "    </tr>\n",
       "  </tbody>\n",
       "</table>\n",
       "</div>"
      ],
      "text/plain": [
       "      id                                              title  \\\n",
       "0  20800  Specter of Trump Loosens Tongues, if Not Purse...   \n",
       "1  20801  Russian warships ready to strike terrorists ne...   \n",
       "2  20802  #NoDAPL: Native American Leaders Vow to Stay A...   \n",
       "3  20803  Tim Tebow Will Attempt Another Comeback, This ...   \n",
       "4  20804                    Keiser Report: Meme Wars (E995)   \n",
       "\n",
       "                    author                                               text  \n",
       "0         David Streitfeld  PALO ALTO, Calif.  —   After years of scorning...  \n",
       "1                      NaN  Russian warships ready to strike terrorists ne...  \n",
       "2            Common Dreams  Videos #NoDAPL: Native American Leaders Vow to...  \n",
       "3            Daniel Victor  If at first you don’t succeed, try a different...  \n",
       "4  Truth Broadcast Network  42 mins ago 1 Views 0 Comments 0 Likes 'For th...  "
      ]
     },
     "execution_count": 5,
     "metadata": {},
     "output_type": "execute_result"
    }
   ],
   "source": [
    "df_test.head()"
   ]
  },
  {
   "cell_type": "code",
   "execution_count": 6,
   "metadata": {},
   "outputs": [
    {
     "data": {
      "text/html": [
       "<div>\n",
       "<style scoped>\n",
       "    .dataframe tbody tr th:only-of-type {\n",
       "        vertical-align: middle;\n",
       "    }\n",
       "\n",
       "    .dataframe tbody tr th {\n",
       "        vertical-align: top;\n",
       "    }\n",
       "\n",
       "    .dataframe thead th {\n",
       "        text-align: right;\n",
       "    }\n",
       "</style>\n",
       "<table border=\"1\" class=\"dataframe\">\n",
       "  <thead>\n",
       "    <tr style=\"text-align: right;\">\n",
       "      <th></th>\n",
       "      <th>id</th>\n",
       "      <th>label</th>\n",
       "    </tr>\n",
       "  </thead>\n",
       "  <tbody>\n",
       "    <tr>\n",
       "      <th>0</th>\n",
       "      <td>20800</td>\n",
       "      <td>0</td>\n",
       "    </tr>\n",
       "    <tr>\n",
       "      <th>1</th>\n",
       "      <td>20801</td>\n",
       "      <td>1</td>\n",
       "    </tr>\n",
       "    <tr>\n",
       "      <th>2</th>\n",
       "      <td>20802</td>\n",
       "      <td>0</td>\n",
       "    </tr>\n",
       "    <tr>\n",
       "      <th>3</th>\n",
       "      <td>20803</td>\n",
       "      <td>1</td>\n",
       "    </tr>\n",
       "    <tr>\n",
       "      <th>4</th>\n",
       "      <td>20804</td>\n",
       "      <td>1</td>\n",
       "    </tr>\n",
       "  </tbody>\n",
       "</table>\n",
       "</div>"
      ],
      "text/plain": [
       "      id  label\n",
       "0  20800      0\n",
       "1  20801      1\n",
       "2  20802      0\n",
       "3  20803      1\n",
       "4  20804      1"
      ]
     },
     "execution_count": 6,
     "metadata": {},
     "output_type": "execute_result"
    }
   ],
   "source": [
    "df_submit.head()"
   ]
  },
  {
   "cell_type": "markdown",
   "metadata": {},
   "source": [
    "### Exploratory Data Analysis (EDA) <a class=\"anchor\" id=\"bullet-1-2\"></a>\n",
    "\n",
    "From the train dataset we can study some data to get the most relevant characteristics of reliable news to extract the features from and feed the model. \n",
    "\n",
    "#### Missing Data <a class=\"anchor\" id=\"bullet-1-2-1\"></a>"
   ]
  },
  {
   "cell_type": "code",
   "execution_count": 7,
   "metadata": {},
   "outputs": [
    {
     "data": {
      "text/plain": [
       "id           0\n",
       "title      558\n",
       "author    1957\n",
       "text        39\n",
       "label        0\n",
       "dtype: int64"
      ]
     },
     "execution_count": 7,
     "metadata": {},
     "output_type": "execute_result"
    }
   ],
   "source": [
    "df_train.isnull().sum()"
   ]
  },
  {
   "cell_type": "markdown",
   "metadata": {},
   "source": [
    "There are several rows with missing data. It makes sense to think that if unreliable articles would be missing either title, author or text. "
   ]
  },
  {
   "cell_type": "code",
   "execution_count": 8,
   "metadata": {},
   "outputs": [
    {
     "name": "stdout",
     "output_type": "stream",
     "text": [
      "Reliability of articles missing titles:  [1]\n",
      "Reliability of articles missing authors:  [1 0]\n",
      "Reliability of articles missing text:  [1]\n"
     ]
    }
   ],
   "source": [
    "print('Reliability of articles missing titles: ', df_train[df_train.title.isnull()].label.unique())\n",
    "print('Reliability of articles missing authors: ', df_train[df_train.author.isnull()].label.unique())\n",
    "print('Reliability of articles missing text: ', df_train[df_train.text.isnull()].label.unique())"
   ]
  },
  {
   "cell_type": "markdown",
   "metadata": {},
   "source": [
    "All articles missing titles and text are unreliable (1). However, some of the articles missing an author are reliable (0). \n",
    "\n",
    "Given the case, instead of dropping the columns with missing values, it's worth keeping a separate feature for missing values. So we can create dummies for missing titles, authors and text."
   ]
  },
  {
   "cell_type": "code",
   "execution_count": 9,
   "metadata": {},
   "outputs": [
    {
     "data": {
      "text/html": [
       "<div>\n",
       "<style scoped>\n",
       "    .dataframe tbody tr th:only-of-type {\n",
       "        vertical-align: middle;\n",
       "    }\n",
       "\n",
       "    .dataframe tbody tr th {\n",
       "        vertical-align: top;\n",
       "    }\n",
       "\n",
       "    .dataframe thead th {\n",
       "        text-align: right;\n",
       "    }\n",
       "</style>\n",
       "<table border=\"1\" class=\"dataframe\">\n",
       "  <thead>\n",
       "    <tr style=\"text-align: right;\">\n",
       "      <th></th>\n",
       "      <th>label</th>\n",
       "      <th>has_title</th>\n",
       "      <th>has_author</th>\n",
       "      <th>has_text</th>\n",
       "    </tr>\n",
       "  </thead>\n",
       "  <tbody>\n",
       "    <tr>\n",
       "      <th>0</th>\n",
       "      <td>1</td>\n",
       "      <td>1</td>\n",
       "      <td>1</td>\n",
       "      <td>1</td>\n",
       "    </tr>\n",
       "    <tr>\n",
       "      <th>1</th>\n",
       "      <td>0</td>\n",
       "      <td>1</td>\n",
       "      <td>1</td>\n",
       "      <td>1</td>\n",
       "    </tr>\n",
       "    <tr>\n",
       "      <th>2</th>\n",
       "      <td>1</td>\n",
       "      <td>1</td>\n",
       "      <td>1</td>\n",
       "      <td>1</td>\n",
       "    </tr>\n",
       "    <tr>\n",
       "      <th>3</th>\n",
       "      <td>1</td>\n",
       "      <td>1</td>\n",
       "      <td>1</td>\n",
       "      <td>1</td>\n",
       "    </tr>\n",
       "    <tr>\n",
       "      <th>4</th>\n",
       "      <td>1</td>\n",
       "      <td>1</td>\n",
       "      <td>1</td>\n",
       "      <td>1</td>\n",
       "    </tr>\n",
       "  </tbody>\n",
       "</table>\n",
       "</div>"
      ],
      "text/plain": [
       "   label  has_title  has_author  has_text\n",
       "0      1          1           1         1\n",
       "1      0          1           1         1\n",
       "2      1          1           1         1\n",
       "3      1          1           1         1\n",
       "4      1          1           1         1"
      ]
     },
     "execution_count": 9,
     "metadata": {},
     "output_type": "execute_result"
    }
   ],
   "source": [
    "final_df_train = df_train[['label']].copy()\n",
    "\n",
    "final_df_train['has_title'] = 1\n",
    "final_df_train.loc[df_train.title.isnull(), 'has_title'] = 0\n",
    "\n",
    "final_df_train['has_author'] = 1\n",
    "final_df_train.loc[df_train.author.isnull(), 'has_author'] = 0\n",
    "\n",
    "final_df_train['has_text'] = 1\n",
    "final_df_train.loc[df_train.author.isnull(), 'has_text'] = 0\n",
    "\n",
    "final_df_train.head()"
   ]
  },
  {
   "cell_type": "markdown",
   "metadata": {},
   "source": [
    "#### Encode Categorical Data <a class=\"anchor\" id=\"bullet-1-2-2\"></a>"
   ]
  },
  {
   "cell_type": "code",
   "execution_count": 36,
   "metadata": {},
   "outputs": [
    {
     "data": {
      "text/html": [
       "<div>\n",
       "<style scoped>\n",
       "    .dataframe tbody tr th:only-of-type {\n",
       "        vertical-align: middle;\n",
       "    }\n",
       "\n",
       "    .dataframe tbody tr th {\n",
       "        vertical-align: top;\n",
       "    }\n",
       "\n",
       "    .dataframe thead th {\n",
       "        text-align: right;\n",
       "    }\n",
       "</style>\n",
       "<table border=\"1\" class=\"dataframe\">\n",
       "  <thead>\n",
       "    <tr style=\"text-align: right;\">\n",
       "      <th></th>\n",
       "      <th>id</th>\n",
       "      <th>title</th>\n",
       "      <th>author</th>\n",
       "      <th>text</th>\n",
       "      <th>label</th>\n",
       "    </tr>\n",
       "  </thead>\n",
       "  <tbody>\n",
       "    <tr>\n",
       "      <th>0</th>\n",
       "      <td>0</td>\n",
       "      <td>House Dem Aide: We Didn’t Even See Comey’s Let...</td>\n",
       "      <td>Darrell Lucus</td>\n",
       "      <td>House Dem Aide: We Didn’t Even See Comey’s Let...</td>\n",
       "      <td>1</td>\n",
       "    </tr>\n",
       "    <tr>\n",
       "      <th>1</th>\n",
       "      <td>1</td>\n",
       "      <td>FLYNN: Hillary Clinton, Big Woman on Campus - ...</td>\n",
       "      <td>Daniel J. Flynn</td>\n",
       "      <td>Ever get the feeling your life circles the rou...</td>\n",
       "      <td>0</td>\n",
       "    </tr>\n",
       "    <tr>\n",
       "      <th>2</th>\n",
       "      <td>2</td>\n",
       "      <td>Why the Truth Might Get You Fired</td>\n",
       "      <td>Consortiumnews.com</td>\n",
       "      <td>Why the Truth Might Get You Fired October 29, ...</td>\n",
       "      <td>1</td>\n",
       "    </tr>\n",
       "    <tr>\n",
       "      <th>3</th>\n",
       "      <td>3</td>\n",
       "      <td>15 Civilians Killed In Single US Airstrike Hav...</td>\n",
       "      <td>Jessica Purkiss</td>\n",
       "      <td>Videos 15 Civilians Killed In Single US Airstr...</td>\n",
       "      <td>1</td>\n",
       "    </tr>\n",
       "    <tr>\n",
       "      <th>4</th>\n",
       "      <td>4</td>\n",
       "      <td>Iranian woman jailed for fictional unpublished...</td>\n",
       "      <td>Howard Portnoy</td>\n",
       "      <td>Print \\nAn Iranian woman has been sentenced to...</td>\n",
       "      <td>1</td>\n",
       "    </tr>\n",
       "  </tbody>\n",
       "</table>\n",
       "</div>"
      ],
      "text/plain": [
       "   id                                              title              author  \\\n",
       "0   0  House Dem Aide: We Didn’t Even See Comey’s Let...       Darrell Lucus   \n",
       "1   1  FLYNN: Hillary Clinton, Big Woman on Campus - ...     Daniel J. Flynn   \n",
       "2   2                  Why the Truth Might Get You Fired  Consortiumnews.com   \n",
       "3   3  15 Civilians Killed In Single US Airstrike Hav...     Jessica Purkiss   \n",
       "4   4  Iranian woman jailed for fictional unpublished...      Howard Portnoy   \n",
       "\n",
       "                                                text  label  \n",
       "0  House Dem Aide: We Didn’t Even See Comey’s Let...      1  \n",
       "1  Ever get the feeling your life circles the rou...      0  \n",
       "2  Why the Truth Might Get You Fired October 29, ...      1  \n",
       "3  Videos 15 Civilians Killed In Single US Airstr...      1  \n",
       "4  Print \\nAn Iranian woman has been sentenced to...      1  "
      ]
     },
     "execution_count": 36,
     "metadata": {},
     "output_type": "execute_result"
    }
   ],
   "source": [
    "df_train.head()"
   ]
  },
  {
   "cell_type": "code",
   "execution_count": 49,
   "metadata": {},
   "outputs": [
    {
     "data": {
      "text/plain": [
       "0        House Dem Aide: We Didn’t Even See Comey’s Let...\n",
       "2                        Why the Truth Might Get You Fired\n",
       "3        15 Civilians Killed In Single US Airstrike Hav...\n",
       "4        Iranian woman jailed for fictional unpublished...\n",
       "6        Life: Life Of Luxury: Elton John’s 6 Favorite ...\n",
       "                               ...                        \n",
       "20788    Maine’s Gov. LePage Threatens To ‘Investigate’...\n",
       "20791    Lawyer Who Kept Hillary Campaign Chief Out of ...\n",
       "20793    Idiot Who Destroyed Trump Hollywood Star Gets ...\n",
       "20798    NATO, Russia To Hold Parallel Exercises In Bal...\n",
       "20799                            What Keeps the F-35 Alive\n",
       "Name: title, Length: 10413, dtype: object"
      ]
     },
     "execution_count": 49,
     "metadata": {},
     "output_type": "execute_result"
    }
   ],
   "source": [
    "# df_train[df_train.author.str.contains('.com')]\n",
    "df_train['title'][df_train.label == 1]"
   ]
  },
  {
   "cell_type": "markdown",
   "metadata": {},
   "source": [
    "#### Feature Correlation <a class=\"anchor\" id=\"bullet-1-2-3\"></a>\n",
    "\n",
    "We want to understand how dependent are each variable from each other."
   ]
  },
  {
   "cell_type": "code",
   "execution_count": 30,
   "metadata": {},
   "outputs": [
    {
     "data": {
      "text/html": [
       "<div>\n",
       "<style scoped>\n",
       "    .dataframe tbody tr th:only-of-type {\n",
       "        vertical-align: middle;\n",
       "    }\n",
       "\n",
       "    .dataframe tbody tr th {\n",
       "        vertical-align: top;\n",
       "    }\n",
       "\n",
       "    .dataframe thead th {\n",
       "        text-align: right;\n",
       "    }\n",
       "</style>\n",
       "<table border=\"1\" class=\"dataframe\">\n",
       "  <thead>\n",
       "    <tr style=\"text-align: right;\">\n",
       "      <th></th>\n",
       "      <th>label</th>\n",
       "      <th>has_title</th>\n",
       "      <th>has_author</th>\n",
       "      <th>has_text</th>\n",
       "    </tr>\n",
       "  </thead>\n",
       "  <tbody>\n",
       "    <tr>\n",
       "      <th>label</th>\n",
       "      <td>1.000000</td>\n",
       "      <td>-0.165824</td>\n",
       "      <td>-0.313305</td>\n",
       "      <td>-0.313305</td>\n",
       "    </tr>\n",
       "    <tr>\n",
       "      <th>has_title</th>\n",
       "      <td>-0.165824</td>\n",
       "      <td>1.000000</td>\n",
       "      <td>-0.053507</td>\n",
       "      <td>-0.053507</td>\n",
       "    </tr>\n",
       "    <tr>\n",
       "      <th>has_author</th>\n",
       "      <td>-0.313305</td>\n",
       "      <td>-0.053507</td>\n",
       "      <td>1.000000</td>\n",
       "      <td>1.000000</td>\n",
       "    </tr>\n",
       "    <tr>\n",
       "      <th>has_text</th>\n",
       "      <td>-0.313305</td>\n",
       "      <td>-0.053507</td>\n",
       "      <td>1.000000</td>\n",
       "      <td>1.000000</td>\n",
       "    </tr>\n",
       "  </tbody>\n",
       "</table>\n",
       "</div>"
      ],
      "text/plain": [
       "               label  has_title  has_author  has_text\n",
       "label       1.000000  -0.165824   -0.313305 -0.313305\n",
       "has_title  -0.165824   1.000000   -0.053507 -0.053507\n",
       "has_author -0.313305  -0.053507    1.000000  1.000000\n",
       "has_text   -0.313305  -0.053507    1.000000  1.000000"
      ]
     },
     "execution_count": 30,
     "metadata": {},
     "output_type": "execute_result"
    }
   ],
   "source": [
    "corr = final_df_train.corr()\n",
    "corr"
   ]
  },
  {
   "cell_type": "code",
   "execution_count": 34,
   "metadata": {},
   "outputs": [
    {
     "data": {
      "image/png": "[encoded data removed]",
      "text/plain": [
       "<Figure size 640x480 with 2 Axes>"
      ]
     },
     "metadata": {},
     "output_type": "display_data"
    }
   ],
   "source": [
    "corr = final_df_train.corr()\n",
    "ax = sns.heatmap(\n",
    "    corr, \n",
    "    vmin=-1, vmax=1, center=0,\n",
    "    cmap=sns.diverging_palette(20, 220, n=200),\n",
    "    square=True\n",
    ")\n",
    "ax.set_xticklabels(\n",
    "    ax.get_xticklabels(),\n",
    "    rotation=45,\n",
    "    horizontalalignment='right'\n",
    ");"
   ]
  },
  {
   "cell_type": "markdown",
   "metadata": {},
   "source": [
    "The articles that have an author are extremely correlated with the ones that have a text."
   ]
  },
  {
   "cell_type": "markdown",
   "metadata": {},
   "source": [
    "#### Feature Extraction <a class=\"anchor\" id=\"bullet-1-2-4\"></a>\n",
    "\n",
    "So far, we are only using missing values to fill the final dataset with the relevant features for the model. \n",
    "\n",
    "Going back to the original dataset, there might be more data that can be used to fit the model."
   ]
  },
  {
   "cell_type": "code",
   "execution_count": 35,
   "metadata": {},
   "outputs": [
    {
     "data": {
      "text/html": [
       "<div>\n",
       "<style scoped>\n",
       "    .dataframe tbody tr th:only-of-type {\n",
       "        vertical-align: middle;\n",
       "    }\n",
       "\n",
       "    .dataframe tbody tr th {\n",
       "        vertical-align: top;\n",
       "    }\n",
       "\n",
       "    .dataframe thead th {\n",
       "        text-align: right;\n",
       "    }\n",
       "</style>\n",
       "<table border=\"1\" class=\"dataframe\">\n",
       "  <thead>\n",
       "    <tr style=\"text-align: right;\">\n",
       "      <th></th>\n",
       "      <th>id</th>\n",
       "      <th>title</th>\n",
       "      <th>author</th>\n",
       "      <th>text</th>\n",
       "      <th>label</th>\n",
       "    </tr>\n",
       "  </thead>\n",
       "  <tbody>\n",
       "    <tr>\n",
       "      <th>0</th>\n",
       "      <td>0</td>\n",
       "      <td>House Dem Aide: We Didn’t Even See Comey’s Let...</td>\n",
       "      <td>Darrell Lucus</td>\n",
       "      <td>House Dem Aide: We Didn’t Even See Comey’s Let...</td>\n",
       "      <td>1</td>\n",
       "    </tr>\n",
       "    <tr>\n",
       "      <th>1</th>\n",
       "      <td>1</td>\n",
       "      <td>FLYNN: Hillary Clinton, Big Woman on Campus - ...</td>\n",
       "      <td>Daniel J. Flynn</td>\n",
       "      <td>Ever get the feeling your life circles the rou...</td>\n",
       "      <td>0</td>\n",
       "    </tr>\n",
       "    <tr>\n",
       "      <th>2</th>\n",
       "      <td>2</td>\n",
       "      <td>Why the Truth Might Get You Fired</td>\n",
       "      <td>Consortiumnews.com</td>\n",
       "      <td>Why the Truth Might Get You Fired October 29, ...</td>\n",
       "      <td>1</td>\n",
       "    </tr>\n",
       "    <tr>\n",
       "      <th>3</th>\n",
       "      <td>3</td>\n",
       "      <td>15 Civilians Killed In Single US Airstrike Hav...</td>\n",
       "      <td>Jessica Purkiss</td>\n",
       "      <td>Videos 15 Civilians Killed In Single US Airstr...</td>\n",
       "      <td>1</td>\n",
       "    </tr>\n",
       "    <tr>\n",
       "      <th>4</th>\n",
       "      <td>4</td>\n",
       "      <td>Iranian woman jailed for fictional unpublished...</td>\n",
       "      <td>Howard Portnoy</td>\n",
       "      <td>Print \\nAn Iranian woman has been sentenced to...</td>\n",
       "      <td>1</td>\n",
       "    </tr>\n",
       "  </tbody>\n",
       "</table>\n",
       "</div>"
      ],
      "text/plain": [
       "   id                                              title              author  \\\n",
       "0   0  House Dem Aide: We Didn’t Even See Comey’s Let...       Darrell Lucus   \n",
       "1   1  FLYNN: Hillary Clinton, Big Woman on Campus - ...     Daniel J. Flynn   \n",
       "2   2                  Why the Truth Might Get You Fired  Consortiumnews.com   \n",
       "3   3  15 Civilians Killed In Single US Airstrike Hav...     Jessica Purkiss   \n",
       "4   4  Iranian woman jailed for fictional unpublished...      Howard Portnoy   \n",
       "\n",
       "                                                text  label  \n",
       "0  House Dem Aide: We Didn’t Even See Comey’s Let...      1  \n",
       "1  Ever get the feeling your life circles the rou...      0  \n",
       "2  Why the Truth Might Get You Fired October 29, ...      1  \n",
       "3  Videos 15 Civilians Killed In Single US Airstr...      1  \n",
       "4  Print \\nAn Iranian woman has been sentenced to...      1  "
      ]
     },
     "execution_count": 35,
     "metadata": {},
     "output_type": "execute_result"
    }
   ],
   "source": [
    "df_train.head()"
   ]
  },
  {
   "cell_type": "markdown",
   "metadata": {},
   "source": [
    "#### Split Dataset <a class=\"anchor\" id=\"bullet-1-2-5\"></a>\n",
    "\n",
    "We want to be able to test the model top evaluate it before testing it with the final test case."
   ]
  },
  {
   "cell_type": "code",
   "execution_count": 24,
   "metadata": {},
   "outputs": [
    {
     "name": "stdout",
     "output_type": "stream",
     "text": [
      "Shape of training feature: (16640, 3)\n",
      "Shape of testing feature: (4160, 3)\n",
      "Shape of training label: (16640,)\n",
      "Shape of training label: (4160,)\n"
     ]
    }
   ],
   "source": [
    "# Select Features\n",
    "feature = final_df_train.drop('label', axis=1)\n",
    "\n",
    "# Select Target\n",
    "target = final_df_train['label']\n",
    "\n",
    "# Set Training and Testing Data\n",
    "X_train, X_test, y_train, y_test = train_test_split(feature , target, shuffle = True, test_size=0.2, random_state=1)\n",
    "\n",
    "# Show the Training and Testing Data\n",
    "print('Shape of training feature:', X_train.shape)\n",
    "print('Shape of testing feature:', X_test.shape)\n",
    "print('Shape of training label:', y_train.shape)\n",
    "print('Shape of training label:', y_test.shape)"
   ]
  },
  {
   "cell_type": "markdown",
   "metadata": {},
   "source": [
    "## Modelling <a class=\"anchor\" id=\"bullet-2\"></a>"
   ]
  },
  {
   "cell_type": "markdown",
   "metadata": {},
   "source": [
    "To analyze the performance of different classification models we can compare their:\n",
    "- Accuracy: the proportion of true results (true negatives and true positives) among the total number of cases examined\n",
    "- Precision: the proportion of positives (true positives) among all data that was predicted positive (true positives and false positives) \n",
    "- Recall: the proportion of positives (true positives) among all real positives (true positives and false negatives)\n",
    "- F1 score: a number between 0 and 1 and is the harmonic mean of precision and recall\n",
    "- Cohen Kappa Score: the agreement between two raters who each classify N items into C mutually exclusive categories\n",
    "- FPR: Increasing true positive rates such that element i is the true positive rate of predictions with score >= thresholds[i]\n",
    "- TPR: thresholds\n",
    "- AUC: Area Under the Curve score\n",
    "- CM: Confusion matrix (indicates the number of samples with true label being i-th class and predicted label being j-th class)"
   ]
  },
  {
   "cell_type": "code",
   "execution_count": 91,
   "metadata": {},
   "outputs": [],
   "source": [
    "models_evaluation_df = pd.DataFrame(columns=['Model', 'Accuracy', 'Precision', 'Recall', 'F1-Score', 'Kappa', 'FPR', 'TPR', 'AUC', 'CM'])\n",
    "\n",
    "def evaluate_model(model, x_test, y_test):\n",
    "\n",
    "  # Predict Test Data \n",
    "  y_pred = model.predict(x_test)\n",
    "\n",
    "  # Calculate accuracy, precision, recall, f1-score, and kappa score\n",
    "  acc = metrics.accuracy_score(y_test, y_pred)\n",
    "  prec = metrics.precision_score(y_test, y_pred)\n",
    "  rec = metrics.recall_score(y_test, y_pred)\n",
    "  f1 = metrics.f1_score(y_test, y_pred)\n",
    "  kappa = metrics.cohen_kappa_score(y_test, y_pred)\n",
    "\n",
    "  # Calculate area under curve (AUC)\n",
    "  y_pred_proba = model.predict_proba(x_test)[::,1]\n",
    "  fpr, tpr, _ = metrics.roc_curve(y_test, y_pred_proba)\n",
    "  auc = metrics.roc_auc_score(y_test, y_pred_proba)\n",
    "\n",
    "  # Display confussion matrix\n",
    "  cm = metrics.confusion_matrix(y_test, y_pred)\n",
    "\n",
    "  return pd.DataFrame([{\n",
    "          'Model': None,\n",
    "          'Accuracy': acc, \n",
    "          'Precision': prec, \n",
    "          'Recall': rec, \n",
    "          'F1-Score': f1, \n",
    "          'Kappa': kappa, \n",
    "          'FPR': fpr, \n",
    "          'TPR': tpr, \n",
    "          'AUC': auc, \n",
    "          'CM': cm\n",
    "          }])"
   ]
  },
  {
   "cell_type": "markdown",
   "metadata": {},
   "source": [
    "### Decision Tree <a class=\"anchor\" id=\"bullet-2-1\"></a>"
   ]
  },
  {
   "cell_type": "code",
   "execution_count": 92,
   "metadata": {},
   "outputs": [
    {
     "data": {
      "text/html": [
       "<div>\n",
       "<style scoped>\n",
       "    .dataframe tbody tr th:only-of-type {\n",
       "        vertical-align: middle;\n",
       "    }\n",
       "\n",
       "    .dataframe tbody tr th {\n",
       "        vertical-align: top;\n",
       "    }\n",
       "\n",
       "    .dataframe thead th {\n",
       "        text-align: right;\n",
       "    }\n",
       "</style>\n",
       "<table border=\"1\" class=\"dataframe\">\n",
       "  <thead>\n",
       "    <tr style=\"text-align: right;\">\n",
       "      <th></th>\n",
       "      <th>Model</th>\n",
       "      <th>Accuracy</th>\n",
       "      <th>Precision</th>\n",
       "      <th>Recall</th>\n",
       "      <th>F1-Score</th>\n",
       "      <th>Kappa</th>\n",
       "      <th>FPR</th>\n",
       "      <th>TPR</th>\n",
       "      <th>AUC</th>\n",
       "      <th>CM</th>\n",
       "    </tr>\n",
       "  </thead>\n",
       "  <tbody>\n",
       "    <tr>\n",
       "      <th>0</th>\n",
       "      <td>Decision Tree</td>\n",
       "      <td>0.613942</td>\n",
       "      <td>0.984962</td>\n",
       "      <td>0.246937</td>\n",
       "      <td>0.394876</td>\n",
       "      <td>0.239316</td>\n",
       "      <td>[0.0, 0.0, 0.003925417075564278, 1.0]</td>\n",
       "      <td>[0.0, 0.056079170593779454, 0.2469368520263902...</td>\n",
       "      <td>0.621616</td>\n",
       "      <td>[[2030, 8], [1598, 524]]</td>\n",
       "    </tr>\n",
       "  </tbody>\n",
       "</table>\n",
       "</div>"
      ],
      "text/plain": [
       "           Model  Accuracy  Precision    Recall  F1-Score     Kappa  \\\n",
       "0  Decision Tree  0.613942   0.984962  0.246937  0.394876  0.239316   \n",
       "\n",
       "                                     FPR  \\\n",
       "0  [0.0, 0.0, 0.003925417075564278, 1.0]   \n",
       "\n",
       "                                                 TPR       AUC  \\\n",
       "0  [0.0, 0.056079170593779454, 0.2469368520263902...  0.621616   \n",
       "\n",
       "                         CM  \n",
       "0  [[2030, 8], [1598, 524]]  "
      ]
     },
     "execution_count": 92,
     "metadata": {},
     "output_type": "execute_result"
    }
   ],
   "source": [
    "tree = DecisionTreeClassifier()\n",
    "\n",
    "tree.fit(X_train,y_train)\n",
    "\n",
    "eval_tree = evaluate_model(tree, X_test, y_test)\n",
    "eval_tree['Model'] = 'Decision Tree'\n",
    "\n",
    "models_evaluation_df = pd.concat([models_evaluation_df, eval_tree], axis=0, ignore_index=True)\n",
    "models_evaluation_df"
   ]
  },
  {
   "cell_type": "markdown",
   "metadata": {},
   "source": [
    "### K nearest Neighbors <a class=\"anchor\" id=\"bullet-2-2\"></a>"
   ]
  },
  {
   "cell_type": "code",
   "execution_count": 93,
   "metadata": {},
   "outputs": [
    {
     "data": {
      "text/html": [
       "<div>\n",
       "<style scoped>\n",
       "    .dataframe tbody tr th:only-of-type {\n",
       "        vertical-align: middle;\n",
       "    }\n",
       "\n",
       "    .dataframe tbody tr th {\n",
       "        vertical-align: top;\n",
       "    }\n",
       "\n",
       "    .dataframe thead th {\n",
       "        text-align: right;\n",
       "    }\n",
       "</style>\n",
       "<table border=\"1\" class=\"dataframe\">\n",
       "  <thead>\n",
       "    <tr style=\"text-align: right;\">\n",
       "      <th></th>\n",
       "      <th>Model</th>\n",
       "      <th>Accuracy</th>\n",
       "      <th>Precision</th>\n",
       "      <th>Recall</th>\n",
       "      <th>F1-Score</th>\n",
       "      <th>Kappa</th>\n",
       "      <th>FPR</th>\n",
       "      <th>TPR</th>\n",
       "      <th>AUC</th>\n",
       "      <th>CM</th>\n",
       "    </tr>\n",
       "  </thead>\n",
       "  <tbody>\n",
       "    <tr>\n",
       "      <th>0</th>\n",
       "      <td>Decision Tree</td>\n",
       "      <td>0.613942</td>\n",
       "      <td>0.984962</td>\n",
       "      <td>0.246937</td>\n",
       "      <td>0.394876</td>\n",
       "      <td>0.239316</td>\n",
       "      <td>[0.0, 0.0, 0.003925417075564278, 1.0]</td>\n",
       "      <td>[0.0, 0.056079170593779454, 0.2469368520263902...</td>\n",
       "      <td>0.621616</td>\n",
       "      <td>[[2030, 8], [1598, 524]]</td>\n",
       "    </tr>\n",
       "    <tr>\n",
       "      <th>1</th>\n",
       "      <td>K Nearest Neighbors</td>\n",
       "      <td>0.613942</td>\n",
       "      <td>0.984962</td>\n",
       "      <td>0.246937</td>\n",
       "      <td>0.394876</td>\n",
       "      <td>0.239316</td>\n",
       "      <td>[0.0, 0.003925417075564278, 1.0]</td>\n",
       "      <td>[0.0, 0.2469368520263902, 1.0]</td>\n",
       "      <td>0.621506</td>\n",
       "      <td>[[2030, 8], [1598, 524]]</td>\n",
       "    </tr>\n",
       "  </tbody>\n",
       "</table>\n",
       "</div>"
      ],
      "text/plain": [
       "                 Model  Accuracy  Precision    Recall  F1-Score     Kappa  \\\n",
       "0        Decision Tree  0.613942   0.984962  0.246937  0.394876  0.239316   \n",
       "1  K Nearest Neighbors  0.613942   0.984962  0.246937  0.394876  0.239316   \n",
       "\n",
       "                                     FPR  \\\n",
       "0  [0.0, 0.0, 0.003925417075564278, 1.0]   \n",
       "1       [0.0, 0.003925417075564278, 1.0]   \n",
       "\n",
       "                                                 TPR       AUC  \\\n",
       "0  [0.0, 0.056079170593779454, 0.2469368520263902...  0.621616   \n",
       "1                     [0.0, 0.2469368520263902, 1.0]  0.621506   \n",
       "\n",
       "                         CM  \n",
       "0  [[2030, 8], [1598, 524]]  \n",
       "1  [[2030, 8], [1598, 524]]  "
      ]
     },
     "execution_count": 93,
     "metadata": {},
     "output_type": "execute_result"
    }
   ],
   "source": [
    "k = 4\n",
    "\n",
    "k_neigh = KNeighborsClassifier(n_neighbors = k)\n",
    "\n",
    "k_neigh.fit(X_train,y_train)\n",
    "\n",
    "eval_k_neigh = evaluate_model(k_neigh, X_test, y_test)\n",
    "eval_k_neigh['Model'] = 'K Nearest Neighbors'\n",
    "\n",
    "models_evaluation_df = pd.concat([models_evaluation_df, eval_k_neigh], axis=0, ignore_index=True)\n",
    "models_evaluation_df"
   ]
  },
  {
   "cell_type": "markdown",
   "metadata": {},
   "source": [
    "### SVC (Support Vector Classification) <a class=\"anchor\" id=\"bullet-2-3\"></a> "
   ]
  },
  {
   "cell_type": "code",
   "execution_count": 95,
   "metadata": {},
   "outputs": [
    {
     "data": {
      "text/html": [
       "<div>\n",
       "<style scoped>\n",
       "    .dataframe tbody tr th:only-of-type {\n",
       "        vertical-align: middle;\n",
       "    }\n",
       "\n",
       "    .dataframe tbody tr th {\n",
       "        vertical-align: top;\n",
       "    }\n",
       "\n",
       "    .dataframe thead th {\n",
       "        text-align: right;\n",
       "    }\n",
       "</style>\n",
       "<table border=\"1\" class=\"dataframe\">\n",
       "  <thead>\n",
       "    <tr style=\"text-align: right;\">\n",
       "      <th></th>\n",
       "      <th>Model</th>\n",
       "      <th>Accuracy</th>\n",
       "      <th>Precision</th>\n",
       "      <th>Recall</th>\n",
       "      <th>F1-Score</th>\n",
       "      <th>Kappa</th>\n",
       "      <th>FPR</th>\n",
       "      <th>TPR</th>\n",
       "      <th>AUC</th>\n",
       "      <th>CM</th>\n",
       "    </tr>\n",
       "  </thead>\n",
       "  <tbody>\n",
       "    <tr>\n",
       "      <th>0</th>\n",
       "      <td>Decision Tree</td>\n",
       "      <td>0.613942</td>\n",
       "      <td>0.984962</td>\n",
       "      <td>0.246937</td>\n",
       "      <td>0.394876</td>\n",
       "      <td>0.239316</td>\n",
       "      <td>[0.0, 0.0, 0.003925417075564278, 1.0]</td>\n",
       "      <td>[0.0, 0.056079170593779454, 0.2469368520263902...</td>\n",
       "      <td>0.621616</td>\n",
       "      <td>[[2030, 8], [1598, 524]]</td>\n",
       "    </tr>\n",
       "    <tr>\n",
       "      <th>1</th>\n",
       "      <td>K Nearest Neighbors</td>\n",
       "      <td>0.613942</td>\n",
       "      <td>0.984962</td>\n",
       "      <td>0.246937</td>\n",
       "      <td>0.394876</td>\n",
       "      <td>0.239316</td>\n",
       "      <td>[0.0, 0.003925417075564278, 1.0]</td>\n",
       "      <td>[0.0, 0.2469368520263902, 1.0]</td>\n",
       "      <td>0.621506</td>\n",
       "      <td>[[2030, 8], [1598, 524]]</td>\n",
       "    </tr>\n",
       "    <tr>\n",
       "      <th>2</th>\n",
       "      <td>SVC</td>\n",
       "      <td>0.613942</td>\n",
       "      <td>0.984962</td>\n",
       "      <td>0.246937</td>\n",
       "      <td>0.394876</td>\n",
       "      <td>0.239316</td>\n",
       "      <td>[0.0, 0.0, 0.003925417075564278, 1.0]</td>\n",
       "      <td>[0.0, 0.056079170593779454, 0.2469368520263902...</td>\n",
       "      <td>0.621616</td>\n",
       "      <td>[[2030, 8], [1598, 524]]</td>\n",
       "    </tr>\n",
       "  </tbody>\n",
       "</table>\n",
       "</div>"
      ],
      "text/plain": [
       "                 Model  Accuracy  Precision    Recall  F1-Score     Kappa  \\\n",
       "0        Decision Tree  0.613942   0.984962  0.246937  0.394876  0.239316   \n",
       "1  K Nearest Neighbors  0.613942   0.984962  0.246937  0.394876  0.239316   \n",
       "2                  SVC  0.613942   0.984962  0.246937  0.394876  0.239316   \n",
       "\n",
       "                                     FPR  \\\n",
       "0  [0.0, 0.0, 0.003925417075564278, 1.0]   \n",
       "1       [0.0, 0.003925417075564278, 1.0]   \n",
       "2  [0.0, 0.0, 0.003925417075564278, 1.0]   \n",
       "\n",
       "                                                 TPR       AUC  \\\n",
       "0  [0.0, 0.056079170593779454, 0.2469368520263902...  0.621616   \n",
       "1                     [0.0, 0.2469368520263902, 1.0]  0.621506   \n",
       "2  [0.0, 0.056079170593779454, 0.2469368520263902...  0.621616   \n",
       "\n",
       "                         CM  \n",
       "0  [[2030, 8], [1598, 524]]  \n",
       "1  [[2030, 8], [1598, 524]]  \n",
       "2  [[2030, 8], [1598, 524]]  "
      ]
     },
     "execution_count": 95,
     "metadata": {},
     "output_type": "execute_result"
    }
   ],
   "source": [
    "svc = SVC(kernel='rbf', probability=True)\n",
    "\n",
    "svc.fit(X_train,y_train)\n",
    "\n",
    "eval_svc = evaluate_model(svc, X_test, y_test)\n",
    "eval_svc['Model'] = 'SVC'\n",
    "\n",
    "models_evaluation_df = pd.concat([models_evaluation_df, eval_svc], axis=0, ignore_index=True)\n",
    "models_evaluation_df"
   ]
  },
  {
   "cell_type": "markdown",
   "metadata": {},
   "source": [
    "### Naive Bayes <a class=\"anchor\" id=\"bullet-2-4\"></a> "
   ]
  },
  {
   "cell_type": "code",
   "execution_count": 96,
   "metadata": {},
   "outputs": [
    {
     "data": {
      "text/html": [
       "<div>\n",
       "<style scoped>\n",
       "    .dataframe tbody tr th:only-of-type {\n",
       "        vertical-align: middle;\n",
       "    }\n",
       "\n",
       "    .dataframe tbody tr th {\n",
       "        vertical-align: top;\n",
       "    }\n",
       "\n",
       "    .dataframe thead th {\n",
       "        text-align: right;\n",
       "    }\n",
       "</style>\n",
       "<table border=\"1\" class=\"dataframe\">\n",
       "  <thead>\n",
       "    <tr style=\"text-align: right;\">\n",
       "      <th></th>\n",
       "      <th>Model</th>\n",
       "      <th>Accuracy</th>\n",
       "      <th>Precision</th>\n",
       "      <th>Recall</th>\n",
       "      <th>F1-Score</th>\n",
       "      <th>Kappa</th>\n",
       "      <th>FPR</th>\n",
       "      <th>TPR</th>\n",
       "      <th>AUC</th>\n",
       "      <th>CM</th>\n",
       "    </tr>\n",
       "  </thead>\n",
       "  <tbody>\n",
       "    <tr>\n",
       "      <th>0</th>\n",
       "      <td>Decision Tree</td>\n",
       "      <td>0.613942</td>\n",
       "      <td>0.984962</td>\n",
       "      <td>0.246937</td>\n",
       "      <td>0.394876</td>\n",
       "      <td>0.239316</td>\n",
       "      <td>[0.0, 0.0, 0.003925417075564278, 1.0]</td>\n",
       "      <td>[0.0, 0.056079170593779454, 0.2469368520263902...</td>\n",
       "      <td>0.621616</td>\n",
       "      <td>[[2030, 8], [1598, 524]]</td>\n",
       "    </tr>\n",
       "    <tr>\n",
       "      <th>1</th>\n",
       "      <td>K Nearest Neighbors</td>\n",
       "      <td>0.613942</td>\n",
       "      <td>0.984962</td>\n",
       "      <td>0.246937</td>\n",
       "      <td>0.394876</td>\n",
       "      <td>0.239316</td>\n",
       "      <td>[0.0, 0.003925417075564278, 1.0]</td>\n",
       "      <td>[0.0, 0.2469368520263902, 1.0]</td>\n",
       "      <td>0.621506</td>\n",
       "      <td>[[2030, 8], [1598, 524]]</td>\n",
       "    </tr>\n",
       "    <tr>\n",
       "      <th>2</th>\n",
       "      <td>SVC</td>\n",
       "      <td>0.613942</td>\n",
       "      <td>0.984962</td>\n",
       "      <td>0.246937</td>\n",
       "      <td>0.394876</td>\n",
       "      <td>0.239316</td>\n",
       "      <td>[0.0, 0.0, 0.003925417075564278, 1.0]</td>\n",
       "      <td>[0.0, 0.056079170593779454, 0.2469368520263902...</td>\n",
       "      <td>0.621616</td>\n",
       "      <td>[[2030, 8], [1598, 524]]</td>\n",
       "    </tr>\n",
       "    <tr>\n",
       "      <th>3</th>\n",
       "      <td>Naive Bayes</td>\n",
       "      <td>0.613942</td>\n",
       "      <td>0.984962</td>\n",
       "      <td>0.246937</td>\n",
       "      <td>0.394876</td>\n",
       "      <td>0.239316</td>\n",
       "      <td>[0.0, 0.003925417075564278, 1.0]</td>\n",
       "      <td>[0.0, 0.2469368520263902, 1.0]</td>\n",
       "      <td>0.621506</td>\n",
       "      <td>[[2030, 8], [1598, 524]]</td>\n",
       "    </tr>\n",
       "  </tbody>\n",
       "</table>\n",
       "</div>"
      ],
      "text/plain": [
       "                 Model  Accuracy  Precision    Recall  F1-Score     Kappa  \\\n",
       "0        Decision Tree  0.613942   0.984962  0.246937  0.394876  0.239316   \n",
       "1  K Nearest Neighbors  0.613942   0.984962  0.246937  0.394876  0.239316   \n",
       "2                  SVC  0.613942   0.984962  0.246937  0.394876  0.239316   \n",
       "3          Naive Bayes  0.613942   0.984962  0.246937  0.394876  0.239316   \n",
       "\n",
       "                                     FPR  \\\n",
       "0  [0.0, 0.0, 0.003925417075564278, 1.0]   \n",
       "1       [0.0, 0.003925417075564278, 1.0]   \n",
       "2  [0.0, 0.0, 0.003925417075564278, 1.0]   \n",
       "3       [0.0, 0.003925417075564278, 1.0]   \n",
       "\n",
       "                                                 TPR       AUC  \\\n",
       "0  [0.0, 0.056079170593779454, 0.2469368520263902...  0.621616   \n",
       "1                     [0.0, 0.2469368520263902, 1.0]  0.621506   \n",
       "2  [0.0, 0.056079170593779454, 0.2469368520263902...  0.621616   \n",
       "3                     [0.0, 0.2469368520263902, 1.0]  0.621506   \n",
       "\n",
       "                         CM  \n",
       "0  [[2030, 8], [1598, 524]]  \n",
       "1  [[2030, 8], [1598, 524]]  \n",
       "2  [[2030, 8], [1598, 524]]  \n",
       "3  [[2030, 8], [1598, 524]]  "
      ]
     },
     "execution_count": 96,
     "metadata": {},
     "output_type": "execute_result"
    }
   ],
   "source": [
    "gnb = GaussianNB()\n",
    "\n",
    "gnb.fit(X_train,y_train)\n",
    "\n",
    "eval_gnb = evaluate_model(gnb, X_test, y_test)\n",
    "eval_gnb['Model'] = 'Naive Bayes'\n",
    "\n",
    "models_evaluation_df = pd.concat([models_evaluation_df, eval_gnb], axis=0, ignore_index=True)\n",
    "models_evaluation_df"
   ]
  }
 ],
 "metadata": {
  "kernelspec": {
   "display_name": "Python 3.10.4 64-bit ('3.10.4')",
   "language": "python",
   "name": "python3"
  },
  "language_info": {
   "codemirror_mode": {
    "name": "ipython",
    "version": 3
   },
   "file_extension": ".py",
   "mimetype": "text/x-python",
   "name": "python",
   "nbconvert_exporter": "python",
   "pygments_lexer": "ipython3",
   "version": "3.10.4"
  },
  "orig_nbformat": 4,
  "vscode": {
   "interpreter": {
    "hash": "4874e92d140a3a08391e2a0bbf442981518ac5637a23f8f3faef1f56d2e9efdf"
   }
  }
 },
 "nbformat": 4,
 "nbformat_minor": 2
}
