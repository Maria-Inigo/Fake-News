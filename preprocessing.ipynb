{
 "cells": [
  {
   "cell_type": "markdown",
   "metadata": {},
   "source": [
    "# Data Preprocessing"
   ]
  },
  {
   "cell_type": "markdown",
   "metadata": {},
   "source": [
    "### Retrieve datasets from Kaggle"
   ]
  },
  {
   "cell_type": "code",
   "execution_count": 5,
   "metadata": {},
   "outputs": [
    {
     "name": "stdout",
     "output_type": "stream",
     "text": [
      "Downloading fake-news.zip to /Users/mariainigo/Documents/GitHub/Maria-Inigo/Fake-News\n",
      "100%|██████████████████████████████████████| 46.5M/46.5M [00:02<00:00, 19.0MB/s]\n",
      "100%|██████████████████████████████████████| 46.5M/46.5M [00:02<00:00, 19.0MB/s]\n"
     ]
    }
   ],
   "source": [
    "import zipfile, os\n",
    "\n",
    "# Import dataset as zip\n",
    "! kaggle competitions download -c fake-news\n",
    "\n",
    "# Extract datasets from imported zip\n",
    "with zipfile.ZipFile('./fake-news.zip', 'r') as zip_ref:\n",
    "  zip_ref.extractall('./data/')\n",
    "\n",
    "# Delete imported zip\n",
    "os.remove('./fake-news.zip')"
   ]
  }
 ],
 "metadata": {
  "kernelspec": {
   "display_name": "Python 3.10.4 64-bit ('3.10.4')",
   "language": "python",
   "name": "python3"
  },
  "language_info": {
   "codemirror_mode": {
    "name": "ipython",
    "version": 3
   },
   "file_extension": ".py",
   "mimetype": "text/x-python",
   "name": "python",
   "nbconvert_exporter": "python",
   "pygments_lexer": "ipython3",
   "version": "3.10.4"
  },
  "orig_nbformat": 4,
  "vscode": {
   "interpreter": {
    "hash": "4874e92d140a3a08391e2a0bbf442981518ac5637a23f8f3faef1f56d2e9efdf"
   }
  }
 },
 "nbformat": 4,
 "nbformat_minor": 2
}
